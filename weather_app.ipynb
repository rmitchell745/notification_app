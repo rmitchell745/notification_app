{
  "nbformat": 4,
  "nbformat_minor": 0,
  "metadata": {
    "colab": {
      "provenance": [],
      "mount_file_id": "1qRnQ4eEcW3bAaWDOkww7Qfx-dWEwmfOu",
      "authorship_tag": "ABX9TyMtimUjoFWsZ3c8cLSUp0v/",
      "include_colab_link": true
    },
    "kernelspec": {
      "name": "python3",
      "display_name": "Python 3"
    },
    "language_info": {
      "name": "python"
    }
  },
  "cells": [
    {
      "cell_type": "markdown",
      "metadata": {
        "id": "view-in-github",
        "colab_type": "text"
      },
      "source": [
        "<a href=\"https://colab.research.google.com/github/rmitchell745/notification_app/blob/main/weather_app.ipynb\" target=\"_parent\"><img src=\"https://colab.research.google.com/assets/colab-badge.svg\" alt=\"Open In Colab\"/></a>"
      ]
    },
    {
      "cell_type": "markdown",
      "source": [
        "# Load_Config.py"
      ],
      "metadata": {
        "id": "HjMRgAjD3p4D"
      }
    },
    {
      "cell_type": "code",
      "execution_count": 6,
      "metadata": {
        "id": "q1mh9QPjN2y3",
        "colab": {
          "base_uri": "https://localhost:8080/"
        },
        "outputId": "b4eca166-f926-413c-b535-cac1e93306fd"
      },
      "outputs": [
        {
          "output_type": "stream",
          "name": "stdout",
          "text": [
            "Writing Load_Config.py\n"
          ]
        }
      ],
      "source": [
        "%%writefile Load_Config.py\n",
        "import os\n",
        "import yaml\n",
        "import os\n",
        "from Logger import logger # Import the logger\n",
        "\n",
        "#this module when called loads a dictionary from a yaml configuration file using a relational path and generates singleton classes for use in the other .py modules\n",
        "\n",
        "def load_config():\n",
        "  cwd = os.getcwd()\n",
        "\n",
        "  config_path = os.path.join(cwd, \"..\", \"config\",'weather_config.yml')\n",
        "\n",
        "  try:\n",
        "      with open(config_path, 'r') as file:\n",
        "          config = yaml.safe_load(file)\n",
        "          logger.info(f\"Config file loaded successfully from {config_path}\")\n",
        "  except FileNotFoundError:\n",
        "      logger.error(f\"Error: Config file not found at {config_path}\")\n",
        "      return None # Return None if config loading fails\n",
        "\n",
        "\n",
        "  return config # Return the config dictionary\n",
        "\n",
        "\n",
        "#weather_config.yml consists of a dictionary for email settings for use with smtplib and a users dictionary containing a list with a dictionary for each user\n",
        "\n",
        "\n",
        "\n",
        "\n",
        "\n",
        "class User:\n",
        "    def __init__(self, name, ph_nmbr, carrier, zipcodes):\n",
        "        self.name = name\n",
        "        self.ph_nmbr = ph_nmbr\n",
        "        self.carrier = carrier\n",
        "        self.zipcodes = zipcodes\n",
        "        logger.info(f\"User object created for {self.name}\")\n",
        "\n",
        "\n",
        "# now to finish configuration and initialization we need to return a list of User Instances and a list of unique zipcodes\n",
        "\n",
        "def Load_users(config):\n",
        "  user_list = []\n",
        "  # Check if 'users' key exists in config and is a list\n",
        "  if config and 'users' in config and isinstance(config['users'], list):\n",
        "      logger.info(\"Loading users from config.\")\n",
        "      for user in config['users']:\n",
        "          # Add checks for expected keys in user dictionary\n",
        "          if isinstance(user, dict) and 'name' in user and 'ph_nmbr' in user and 'carrier' in user and 'zipcodes' in user and isinstance(user['zipcodes'], list):\n",
        "              name = user['name']\n",
        "              ph_nmbr = user['ph_nmbr']\n",
        "              carrier = user['carrier']\n",
        "              zipcodes = user['zipcodes']\n",
        "              user_instance = User(name, ph_nmbr, carrier, zipcodes)\n",
        "              user_list.append(user_instance)\n",
        "              logger.info(f\"Loaded user: {name}\")\n",
        "          else:\n",
        "              logger.warning(f\"Skipping invalid user entry in config: {user}\")\n",
        "  elif config:\n",
        "      logger.warning(\"'users' key not found or not a list in config file.\")\n",
        "\n",
        "  logger.info(f\"Finished loading {len(user_list)} users.\")\n",
        "  return user_list\n",
        "\n",
        "def Load_zipcodes(user_list):\n",
        "  zipcodes = []\n",
        "  for user in user_list :\n",
        "      for zipcode in user.zipcodes:\n",
        "          zipcodes.append(zipcode)\n",
        "\n",
        "  uniq_zipcodes = list(set(zipcodes))\n",
        "  logger.info(f\"Found {len(uniq_zipcodes)} unique zipcodes.\")\n",
        "\n",
        "  return uniq_zipcodes"
      ]
    },
    {
      "cell_type": "markdown",
      "source": [
        "# Send_Email_SMS.py\n",
        "\n"
      ],
      "metadata": {
        "id": "65E1UXFU38Xc"
      }
    },
    {
      "cell_type": "code",
      "source": [
        "%%writefile Send_Email_SMS.py\n",
        "import smtplib\n",
        "from email.mime.text import MIMEText\n",
        "from Logger import logger\n",
        "\n",
        "# define an email config class\n",
        "class EmailConfig:\n",
        "    __instance = None\n",
        "\n",
        "    def __new__(cls):\n",
        "        if cls.__instance is None:\n",
        "            cls.__instance = super(EmailConfig, cls).__new__(cls)\n",
        "            logger.info(\"EmailConfig singleton instance created.\")\n",
        "        return cls.__instance\n",
        "\n",
        "    def __init__(self, config):\n",
        "        if not hasattr(self, '_initialized'):\n",
        "\n",
        "            if config and 'smtp_server' in config and 'smtp_port' in config and 'sender_email' in config and 'sender_password' in config:\n",
        "                self.smtp_server = config['smtp_server']\n",
        "                self.smtp_port = config['smtp_port']\n",
        "                self.sender_email = config['sender_email']\n",
        "                self.sender_password = config['sender_password']\n",
        "                self._initialized = True\n",
        "                logger.info(\"EmailConfig instance initialized successfully.\")\n",
        "            else:\n",
        "                logger.error(\"Missing required email configuration keys in config.\")\n",
        "\n",
        "                self._initialized = False\n",
        "\n",
        "\n",
        "    @classmethod\n",
        "    def get_instance(cls, config=None):\n",
        "        if cls.__instance is None:\n",
        "            if config is None:\n",
        "                logger.error(\"Config must be provided on first initialization of EmailConfig.\")\n",
        "                raise ValueError(\"Config must be provided on first initialization\")\n",
        "            cls.__instance = cls(config)\n",
        "        return cls.__instance\n",
        "\n",
        "\n",
        "\n",
        "\n",
        "# send the email function\n",
        "def send_email(ssl_context, sender_email, ph_nmbr, carrier, subject, body, carrier_sms_protocol):\n",
        "    carrier_domain = carrier_sms_protocol.get(carrier)\n",
        "    if not carrier_domain:\n",
        "        logger.warning(f\"Unknown carrier '{carrier}'. Cannot send SMS to {ph_nmbr}.\")\n",
        "        return\n",
        "\n",
        "    receiver_email = f\"{ph_nmbr}@{carrier_domain}\" # Added @\n",
        "    message = f\"Subject: {subject}\\n\\n{body}\" # Use f-string for subject and body\n",
        "\n",
        "    try:\n",
        "        ssl_context.sendmail(sender_email, receiver_email, message)\n",
        "        logger.info(f\"Email sent successfully to {receiver_email}\")\n",
        "    except Exception as e:\n",
        "        logger.error(f\"Failed to send email to {receiver_email}: {e}\")"
      ],
      "metadata": {
        "id": "kMYy0Dup4Piq",
        "colab": {
          "base_uri": "https://localhost:8080/"
        },
        "outputId": "fda7cf58-d54e-4363-aeda-a97f507706a8"
      },
      "execution_count": 5,
      "outputs": [
        {
          "output_type": "stream",
          "name": "stdout",
          "text": [
            "Writing Send_Email_SMS.py\n"
          ]
        }
      ]
    },
    {
      "cell_type": "markdown",
      "source": [
        "# Get_Weather_Data.py"
      ],
      "metadata": {
        "id": "lCzM5fZW9suG"
      }
    },
    {
      "cell_type": "code",
      "source": [
        "%%writefile Get_Weather_Data.py\n",
        "import requests\n",
        "import os\n",
        "from Logger import logger\n",
        "\n",
        "#use env variable for api keys, access openweather api for unique zipcodes and create a dictionary of 3 weather forecasts for each zipcode\n",
        "\n",
        "api_key = os.environ.get('WEATHER_API_KEY')\n",
        "if not api_key:\n",
        "    logger.error(\"WEATHER_API_KEY environment variable not set.\")\n",
        "    exit() # Exit if no API key\n",
        "\n",
        "def get_weather(uniq_zipcodes):\n",
        "    weather_data = {}\n",
        "    logger.info(f\"Fetching weather data for {len(uniq_zipcodes)} unique zipcodes.\")\n",
        "    for zipcode in uniq_zipcodes:\n",
        "        url = f\"http://api.openweathermap.org/data/2.5/forecast?zip={zipcode},cnt=3,us&appid={api_key}\"\n",
        "        try:\n",
        "            response = requests.get(url)\n",
        "            response.raise_for_status()\n",
        "            data = response.json()\n",
        "            weather_data[zipcode] = data\n",
        "            logger.info(f\"Successfully fetched weather data for zipcode {zipcode}\")\n",
        "        except requests.exceptions.RequestException as e:\n",
        "            logger.error(f\"Error fetching weather data for zipcode {zipcode}: {e}\")\n",
        "            weather_data[zipcode] = {\"error\": f\"Could not fetch weather data: {e}\"}\n",
        "\n",
        "    return weather_data\n",
        "\n",
        "\n",
        "def human_readable_weather(weather_data):\n",
        "    human_readable_data = {}\n",
        "    logger.info(\"Converting weather data to human readable format.\")\n",
        "    for zipcode, data in weather_data.items():\n",
        "        human_readable_data[zipcode] = {}\n",
        "        if \"error\" in data:\n",
        "            human_readable_data[zipcode] = {\"Error\": [data[\"error\"]]}\n",
        "            logger.warning(f\"Skipping human readable conversion for zipcode {zipcode} due to fetch error.\")\n",
        "            continue\n",
        "\n",
        "\n",
        "        if 'list' in data and data['list']:\n",
        "            for forecast in data['list']:\n",
        "\n",
        "                if 'dt_txt' in forecast and 'weather' in forecast and forecast['weather']:\n",
        "                    date = forecast['dt_txt'].split()[0]\n",
        "                    time = forecast['dt_txt'].split()[1]\n",
        "\n",
        "                    if date not in human_readable_data[zipcode]:\n",
        "                        human_readable_data[zipcode][date] = []\n",
        "\n",
        "\n",
        "                    if 'description' in forecast['weather'][0]:\n",
        "                        human_readable_data[zipcode][date].append(f\"{time}: {forecast['weather'][0]['description']}\")\n",
        "                    else:\n",
        "                        human_readable_data[zipcode][date].append(f\"{time}: No description available\")\n",
        "                        logger.warning(f\"No weather description available for {zipcode} at {date} {time}\")\n",
        "                else:\n",
        "                     if zipcode not in human_readable_data:\n",
        "                         human_readable_data[zipcode] = {}\n",
        "                     if 'No forecast data available' not in human_readable_data[zipcode]:\n",
        "                         human_readable_data[zipcode]['No forecast data available'] = [\"No forecast data available for this time.\"]\n",
        "                         logger.warning(f\"Missing dt_txt or weather key for forecast in zipcode {zipcode}\")\n",
        "\n",
        "\n",
        "        else:\n",
        "\n",
        "            human_readable_data[zipcode] = {\"No forecast data available\": [\"No forecast data available for this zipcode.\"]}\n",
        "            logger.warning(f\"'list' key missing or empty in weather data for zipcode {zipcode}.\")\n",
        "\n",
        "    logger.info(\"Finished converting weather data to human readable format.\")\n",
        "    return human_readable_data\n",
        "\n",
        "\n",
        "def generate_message(user, all_human_readable_data):\n",
        "    message = f\"Hello {user.name},\\n\\nHere is your weather forecast for the next 3 days:\\n\\n\"\n",
        "    logger.info(f\"Generating message for user: {user.name}\")\n",
        "    # Iterate through the user's zipcodes\n",
        "    for zipcode in user.zipcodes:\n",
        "\n",
        "        if zipcode in all_human_readable_data:\n",
        "            message += f\"Weather for Zipcode {zipcode}:\\n\"\n",
        "            user_weather_data = all_human_readable_data[zipcode]\n",
        "            for date, forecasts in user_weather_data.items():\n",
        "                message += f\"Date: {date}\\n\"\n",
        "                for forecast in forecasts:\n",
        "                    message += f\"{forecast}\\n\"\n",
        "                message += \"\\n\"\n",
        "            logger.info(f\"Included weather data for zipcode {zipcode} in message for {user.name}\")\n",
        "        else:\n",
        "            message += f\"No weather data available for Zipcode {zipcode}\\n\\n\"\n",
        "            logger.warning(f\"No weather data available in human_readable_data for user {user.name}'s zipcode {zipcode}\")\n",
        "\n",
        "    logger.info(f\"Message generated for user: {user.name}\")\n",
        "    return message"
      ],
      "metadata": {
        "id": "0eu_UKgi93_2",
        "colab": {
          "base_uri": "https://localhost:8080/"
        },
        "outputId": "615dbae5-4f74-4cc1-eba3-5b1575c5c71b"
      },
      "execution_count": 4,
      "outputs": [
        {
          "output_type": "stream",
          "name": "stdout",
          "text": [
            "Writing Get_Weather_Data.py\n"
          ]
        }
      ]
    },
    {
      "cell_type": "markdown",
      "source": [
        "#__Main__.py"
      ],
      "metadata": {
        "id": "14bBwwjMSqoa"
      }
    },
    {
      "cell_type": "code",
      "source": [
        "%%writefile __main__.py\n",
        "import Load_Config\n",
        "import Send_Email_SMS\n",
        "import Get_Weather_Data\n",
        "import smtplib\n",
        "import yaml\n",
        "import os\n",
        "from Logger import logger\n",
        "\n",
        "#main python module that is scheduled to run.\n",
        "\n",
        "logger.info(\"Application started.\")\n",
        "\n",
        "#first load config\n",
        "\n",
        "config = Load_Config.load_config()\n",
        "\n",
        "# Check if config load was successful\n",
        "if config is None:\n",
        "    logger.error(\"Configuration loading failed. Exiting.\")\n",
        "    exit() # Exit if config is not loaded\n",
        "else:\n",
        "    logger.info(\"Configuration loaded successfully.\")\n",
        "\n",
        "\n",
        "# Call the functions from Load_Config to get the user data and unique zipcodes\n",
        "user_list = Load_Config.Load_users(config)\n",
        "uniq_zipcodes = Load_Config.Load_zipcodes(user_list)\n",
        "\n",
        "# Check if user_list or uniq_zipcodes are empty and handle accordingly\n",
        "if not user_list:\n",
        "    logger.error(\"No users loaded. Exiting.\")\n",
        "    exit()\n",
        "else:\n",
        "    logger.info(f\"Loaded {len(user_list)} users.\")\n",
        "\n",
        "if not uniq_zipcodes:\n",
        "    logger.error(\"No unique zipcodes found. Exiting.\")\n",
        "    exit()\n",
        "else:\n",
        "    logger.info(f\"Found {len(uniq_zipcodes)} unique zipcodes.\")\n",
        "\n",
        "\n",
        "# Initialize EmailConfig\n",
        "try:\n",
        "    email_config = Send_Email_SMS.EmailConfig.get_instance(config.get('email_settings')) # Pass only email settings from config\n",
        "    if not hasattr(email_config, '_initialized') or not email_config._initialized:\n",
        "        logger.error(\"Email configuration initialization failed. Cannot send emails.\")\n",
        "\n",
        "        email_sending_possible = False\n",
        "    else:\n",
        "        logger.info(\"Email configuration initialized successfully.\")\n",
        "        email_sending_possible = True\n",
        "\n",
        "except ValueError as e:\n",
        "    logger.error(f\"Error initializing EmailConfig: {e}\")\n",
        "    email_sending_possible = False # Cannot send emails if initialization fails\n",
        "\n",
        "\n",
        "#Generate the Weather Data\n",
        "weather_data = Get_Weather_Data.get_weather(uniq_zipcodes)\n",
        "human_readable_data = Get_Weather_Data.human_readable_weather(weather_data)\n",
        "\n",
        "# Check if weather_data is successfully retrieved\n",
        "if not weather_data:\n",
        "    logger.error(\"Failed to retrieve weather data. Exiting.\")\n",
        "    exit()\n",
        "else:\n",
        "    logger.info(\"Weather data retrieved successfully.\")\n",
        "\n",
        "\n",
        "#generate the messages\n",
        "messages = {} # Store messages as a dictionary with user as key\n",
        "logger.info(\"Generating messages for users.\")\n",
        "for user in user_list:\n",
        "    message = Get_Weather_Data.generate_message(user, human_readable_data)\n",
        "    messages[user] = message # Associate to user\n",
        "\n",
        "logger.info(\"Finished generating messages.\")\n",
        "\n",
        "#send the messages\n",
        "if email_sending_possible:\n",
        "    logger.info(\"Attempting to send messages.\")\n",
        "    try:\n",
        "        # Establish SSL context and login\n",
        "        smtp_server = email_config.smtp_server\n",
        "        smtp_port = email_config.smtp_port\n",
        "        sender_email = email_config.sender_email\n",
        "        sender_password = email_config.sender_password\n",
        "\n",
        "        # Define carrier_sms_protocols\n",
        "        #Can move to config ayaml eventually\n",
        "        carrier_sms_protocol = {\n",
        "            \"AT&T\": \"txt.att.net\",\n",
        "            \"Boost Mobile\": \"sms.myboostmobile.com\",\n",
        "            \"Cricket\": \"sms.mycricket.com\",\n",
        "            \"Verizon\": \"vtext.com\",\n",
        "            \"T-Mobile\": \"tmomail.net\"\n",
        "        }\n",
        "\n",
        "\n",
        "        with smtplib.SMTP_SSL(smtp_server, smtp_port) as ssl_context:\n",
        "            logger.info(\"SMTP SSL context established.\")\n",
        "            ssl_context.login(sender_email, sender_password)\n",
        "            logger.info(\"SMTP login successful.\")\n",
        "\n",
        "            for user, message_body in messages.items():\n",
        "                # Check if message_body is not empty\n",
        "                if message_body and message_body.strip() != f\"Hello {user.name},\\n\\nHere is your weather forecast for the next 3 days:\\n\\n\":\n",
        "                    logger.info(f\"Sending message to {user.name}\")\n",
        "                    # Call send_email\n",
        "                    Send_Email_SMS.send_email(ssl_context, sender_email, user.ph_nmbr, user.carrier, \"Weather Update\", message_body, carrier_sms_protocol)\n",
        "                else:\n",
        "                    logger.warning(f\"Skipping sending message to {user.name} due to empty or incomplete message.\")\n",
        "\n",
        "    except Exception as e:\n",
        "        logger.error(f\"An error occurred during the email sending process: {e}\")\n",
        "else:\n",
        "    logger.warning(\"Skipping email sending due to configuration errors.\")\n",
        "\n",
        "logger.info(\"Application finished.\")"
      ],
      "metadata": {
        "id": "qJ7E4Z-6Sy8e",
        "colab": {
          "base_uri": "https://localhost:8080/"
        },
        "outputId": "de3da434-afc7-4d53-e417-ee35366de89b"
      },
      "execution_count": 3,
      "outputs": [
        {
          "output_type": "stream",
          "name": "stdout",
          "text": [
            "Writing __main__.py\n"
          ]
        }
      ]
    },
    {
      "cell_type": "markdown",
      "source": [
        "# weather_config.yml"
      ],
      "metadata": {
        "id": "camre1t9fWmn"
      }
    },
    {
      "cell_type": "markdown",
      "metadata": {
        "id": "74d44106"
      },
      "source": [
        "email_settings:\n",
        "  smtp_server: your_smtp_server\n",
        "  smtp_port: 587 # or your SMTP port\n",
        "  sender_email: your_email@example.com\n",
        "  sender_password: your_email_password\n",
        "\n",
        "users:\n",
        "  - name: User One\n",
        "    ph_nmbr: '1234567890' # Phone number as a string\n",
        "    carrier: Verizon # e.g., AT&T, Boost Mobile, Cricket, Verizon, T-Mobile\n",
        "    zipcodes:\n",
        "      - '10001'\n",
        "      - '90210'\n",
        "  - name: User Two\n",
        "    ph_nmbr: '0987654321'\n",
        "    carrier: T-Mobile\n",
        "    zipcodes:\n",
        "      - '60601'\n",
        "      - '75001'\n",
        "\n",
        "sms_settings:\n",
        "  \"AT&T\": \"\""
      ]
    },
    {
      "cell_type": "markdown",
      "source": [
        "# Logger.py"
      ],
      "metadata": {
        "id": "UUySzUnLgHfH"
      }
    },
    {
      "cell_type": "code",
      "source": [
        "%%writefile Logger.py\n",
        "import logging\n",
        "from logging.handlers import TimedRotatingFileHandler\n",
        "import os\n",
        "\n",
        "# Create a logs directory if it doesn't exist\n",
        "log_dir = \"logs\"\n",
        "if not os.path.exists(log_dir):\n",
        "    os.makedirs(log_dir)\n",
        "\n",
        "# Configure the logger\n",
        "logger = logging.getLogger(\"weather_app\")\n",
        "logger.setLevel(logging.INFO)  # Set the minimum logging level\n",
        "\n",
        "# Create a file handler with timed rotation\n",
        "log_file = os.path.join(log_dir, \"weather_app.log\")\n",
        "file_handler = TimedRotatingFileHandler(\n",
        "    log_file, when=\"W0\", interval=1, backupCount=5\n",
        ")\n",
        "# when=\"W0\" means rotate every Monday (W0 to W6 for Sunday to Saturday)\n",
        "# interval=1 means rotate every 1 week\n",
        "# backupCount=5 means keep 5 weeks of backup logs\n",
        "\n",
        "# Create a formatter and add it to the handler\n",
        "formatter = logging.Formatter(\"%(asctime)s - %(name)s - %(levelname)s - %(message)s\")\n",
        "file_handler.setFormatter(formatter)\n",
        "\n",
        "# Add the file handler to the logger\n",
        "logger.addHandler(file_handler)\n",
        "\n",
        "# Optionally, add a stream handler to output logs to the console\n",
        "stream_handler = logging.StreamHandler()\n",
        "stream_handler.setFormatter(formatter)\n",
        "logger.addHandler(stream_handler)\n",
        "\n",
        "logger.info(\"Logger configured.\")"
      ],
      "metadata": {
        "colab": {
          "base_uri": "https://localhost:8080/"
        },
        "id": "HFIEdWsS7djb",
        "outputId": "f69dc3ad-19ff-43fd-8dce-c27dd5d5f248"
      },
      "execution_count": 2,
      "outputs": [
        {
          "output_type": "stream",
          "name": "stdout",
          "text": [
            "Writing Logger.py\n"
          ]
        }
      ]
    }
  ]
}